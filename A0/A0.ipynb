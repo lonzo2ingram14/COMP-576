{
 "cells": [
  {
   "cell_type": "markdown",
   "id": "5878661b-38f0-4b0b-b37d-10f3fd9d37ad",
   "metadata": {},
   "source": [
    "# Task 1: Verify Anaconda Installation\n",
    "\n",
    "To verify that Anaconda is installed and working, \n",
    "we ran the following commands in this Jupyter Notebook:\n",
    "\n",
    "- `!conda info`\n",
    "\n",
    "The output confirms that the base environment is active, \n",
    "and all necessary packages are available."
   ]
  },
  {
   "cell_type": "code",
   "execution_count": 2,
   "id": "950f2a9e-95c3-4c33-8c8d-db03c9375eb8",
   "metadata": {},
   "outputs": [
    {
     "name": "stdout",
     "output_type": "stream",
     "text": [
      "\n",
      "     active environment : base\n",
      "    active env location : D:\\Anaconda\n",
      "            shell level : 1\n",
      "       user config file : C:\\Users\\39346\\.condarc\n",
      " populated config files : D:\\Anaconda\\.condarc\n",
      "          conda version : 25.7.0\n",
      "    conda-build version : not installed\n",
      "         python version : 3.13.5.final.0\n",
      "                 solver : libmamba (default)\n",
      "       virtual packages : __archspec=1=skylake\n",
      "                          __conda=25.7.0=0\n",
      "                          __cuda=13.0=0\n",
      "                          __win=10.0.26100=0\n",
      "       base environment : D:\\Anaconda  (writable)\n",
      "      conda av data dir : D:\\Anaconda\\etc\\conda\n",
      "  conda av metadata url : None\n",
      "           channel URLs : https://repo.anaconda.com/pkgs/main/win-64\n",
      "                          https://repo.anaconda.com/pkgs/main/noarch\n",
      "                          https://repo.anaconda.com/pkgs/r/win-64\n",
      "                          https://repo.anaconda.com/pkgs/r/noarch\n",
      "                          https://repo.anaconda.com/pkgs/msys2/win-64\n",
      "                          https://repo.anaconda.com/pkgs/msys2/noarch\n",
      "          package cache : D:\\Anaconda\\pkgs\n",
      "                          C:\\Users\\39346\\.conda\\pkgs\n",
      "                          C:\\Users\\39346\\AppData\\Local\\conda\\conda\\pkgs\n",
      "       envs directories : D:\\Anaconda\\envs\n",
      "                          C:\\Users\\39346\\.conda\\envs\n",
      "                          C:\\Users\\39346\\AppData\\Local\\conda\\conda\\envs\n",
      "               platform : win-64\n",
      "             user-agent : conda/25.7.0 requests/2.32.4 CPython/3.13.5 Windows/11 Windows/10.0.26100 solver/libmamba conda-libmamba-solver/25.4.0 libmambapy/2.0.5 aau/0.7.2 c/. s/. e/.\n",
      "          administrator : False\n",
      "             netrc file : None\n",
      "           offline mode : False\n",
      "\n"
     ]
    }
   ],
   "source": [
    "!conda info"
   ]
  },
  {
   "cell_type": "markdown",
   "id": "565ef82a",
   "metadata": {},
   "source": [
    "# Task 2: Linear Algebra Equivalents\n",
    "\n",
    "In this task, we reproduced the commands from the *Linear Algebra Equivalents* table in **NumPy for MATLAB Users** using Jupyter Notebook. The goal is to demonstrate how common MATLAB operations for arrays and matrices can be carried out in Python with NumPy and SciPy.  \n",
    "\n",
    "All commands were executed on sample matrices and vectors defined in the notebook. The outputs confirm that NumPy and SciPy provide functionality equivalent to MATLAB, allowing seamless transition for linear algebra and matrix computation tasks.  \n",
    "\n",
    "Below we include the code cells and their corresponding outputs as evidence of successful execution.\n"
   ]
  },
  {
   "cell_type": "markdown",
   "id": "dd67ac40",
   "metadata": {},
   "source": [
    "### Setup (imports, printing options, base arrays)"
   ]
  },
  {
   "cell_type": "code",
   "execution_count": 3,
   "id": "5efab4e6",
   "metadata": {},
   "outputs": [
    {
     "name": "stdout",
     "output_type": "stream",
     "text": [
      "A=\n",
      " [[1. 2. 3.]\n",
      " [4. 5. 6.]] \n",
      "B=\n",
      " [[7. 8. 9.]\n",
      " [1. 3. 5.]] \n",
      "M=\n",
      " [[ 2. -1.  0.]\n",
      " [-1.  2. -1.]\n",
      " [ 0. -1.  2.]] \n",
      "N=\n",
      " [[3. 1. 0.]\n",
      " [1. 3. 1.]\n",
      " [0. 1. 3.]] \n",
      "v= [1. 2. 3.] \n",
      "b= [1. 2. 1.]\n"
     ]
    }
   ],
   "source": [
    "\n",
    "import numpy as np\n",
    "import scipy.linalg as LA\n",
    "from numpy.random import default_rng\n",
    "from scipy import signal\n",
    "from scipy.sparse.linalg import eigs, cg\n",
    "\n",
    "np.set_printoptions(suppress=True, precision=4)\n",
    "rng = default_rng(42)\n",
    "\n",
    "# Some reusable arrays\n",
    "A = np.array([[1., 2., 3.],[4., 5., 6.]])\n",
    "B = np.array([[7., 8., 9.],[1., 3., 5.]])\n",
    "M = np.array([[2., -1., 0.],[-1., 2., -1.],[0., -1., 2.]])\n",
    "N = np.array([[3., 1., 0.],[1., 3., 1.],[0., 1., 3.]])\n",
    "v = np.array([1., 2., 3.])\n",
    "b = np.array([1., 2., 1.])\n",
    "print(\"A=\\n\", A, \"\\nB=\\n\", B, \"\\nM=\\n\", M, \"\\nN=\\n\", N, \"\\nv=\", v, \"\\nb=\", b)\n"
   ]
  },
  {
   "cell_type": "markdown",
   "id": "757bb87e",
   "metadata": {},
   "source": [
    "### ndims(a)  \n",
    "**NumPy:** `np.ndim(a) or a.ndim`"
   ]
  },
  {
   "cell_type": "code",
   "execution_count": 4,
   "id": "7278ba4b",
   "metadata": {},
   "outputs": [
    {
     "name": "stdout",
     "output_type": "stream",
     "text": [
      "ndim(A)= 2\n",
      "A.ndim= 2\n"
     ]
    }
   ],
   "source": [
    "print('ndim(A)=', np.ndim(A)); print('A.ndim=', A.ndim)"
   ]
  },
  {
   "cell_type": "markdown",
   "id": "9301f055",
   "metadata": {},
   "source": [
    "### numel(a)  \n",
    "**NumPy:** `np.size(a) or a.size`"
   ]
  },
  {
   "cell_type": "code",
   "execution_count": 5,
   "id": "58f4c438",
   "metadata": {},
   "outputs": [
    {
     "name": "stdout",
     "output_type": "stream",
     "text": [
      "numel(A)= 6\n",
      "A.size= 6\n"
     ]
    }
   ],
   "source": [
    "print('numel(A)=', np.size(A)); print('A.size=', A.size)"
   ]
  },
  {
   "cell_type": "markdown",
   "id": "bd435b5b",
   "metadata": {},
   "source": [
    "### size(a)  \n",
    "**NumPy:** `np.shape(a) or a.shape`"
   ]
  },
  {
   "cell_type": "code",
   "execution_count": 6,
   "id": "41985265",
   "metadata": {},
   "outputs": [
    {
     "name": "stdout",
     "output_type": "stream",
     "text": [
      "shape(A)= (2, 3)\n",
      "A.shape= (2, 3)\n"
     ]
    }
   ],
   "source": [
    "print('shape(A)=', np.shape(A)); print('A.shape=', A.shape)"
   ]
  },
  {
   "cell_type": "markdown",
   "id": "704b2ec7",
   "metadata": {},
   "source": [
    "### size(a,n)  \n",
    "**NumPy:** `a.shape[n-1] (MATLAB 1-based vs Python 0-based)`"
   ]
  },
  {
   "cell_type": "code",
   "execution_count": 7,
   "id": "f68a02e5",
   "metadata": {},
   "outputs": [
    {
     "name": "stdout",
     "output_type": "stream",
     "text": [
      "size(A,1)-> 2\n",
      "size(A,2)-> 3\n"
     ]
    }
   ],
   "source": [
    "print('size(A,1)->', A.shape[0]); print('size(A,2)->', A.shape[1])"
   ]
  },
  {
   "cell_type": "markdown",
   "id": "9e9e2c8e",
   "metadata": {},
   "source": [
    "### [1 2 3; 4 5 6]  \n",
    "**NumPy:** `np.array([[1.,2.,3.],[4.,5.,6.]])`"
   ]
  },
  {
   "cell_type": "code",
   "execution_count": 8,
   "id": "1f9c474a",
   "metadata": {},
   "outputs": [
    {
     "name": "stdout",
     "output_type": "stream",
     "text": [
      "C=\n",
      " [[1. 2. 3.]\n",
      " [4. 5. 6.]]\n"
     ]
    }
   ],
   "source": [
    "C = np.array([[1.,2.,3.],[4.,5.,6.]]); print('C=\\n', C)"
   ]
  },
  {
   "cell_type": "markdown",
   "id": "7c8154e4",
   "metadata": {},
   "source": [
    "### [a b; c d]  \n",
    "**NumPy:** `np.block([[a,b],[c,d]])`"
   ]
  },
  {
   "cell_type": "code",
   "execution_count": 9,
   "id": "d9a66c36",
   "metadata": {},
   "outputs": [
    {
     "name": "stdout",
     "output_type": "stream",
     "text": [
      "block=\n",
      " [[1. 2. 3. 4.]\n",
      " [5. 6. 7. 8.]]\n"
     ]
    }
   ],
   "source": [
    "a = np.array([[1., 2.]]); b2 = np.array([[3., 4.]]); c = np.array([[5., 6.]]); d = np.array([[7., 8.]]); blk = np.block([[a, b2],[c, d]]); print('block=\\n', blk)"
   ]
  },
  {
   "cell_type": "markdown",
   "id": "c8eb0157",
   "metadata": {},
   "source": [
    "### a(end)  \n",
    "**NumPy:** `a[-1] (for 1-D array)`"
   ]
  },
  {
   "cell_type": "code",
   "execution_count": 10,
   "id": "0999fac0",
   "metadata": {},
   "outputs": [
    {
     "name": "stdout",
     "output_type": "stream",
     "text": [
      "x[-1]= 50\n"
     ]
    }
   ],
   "source": [
    "x = np.array([10,20,30,40,50]); print('x[-1]=', x[-1])"
   ]
  },
  {
   "cell_type": "markdown",
   "id": "dc9b4a7a",
   "metadata": {},
   "source": [
    "### a(2,5)  \n",
    "**NumPy:** `a[1,4]`"
   ]
  },
  {
   "cell_type": "code",
   "execution_count": 11,
   "id": "ee02a82e",
   "metadata": {},
   "outputs": [
    {
     "name": "stdout",
     "output_type": "stream",
     "text": [
      "E=\n",
      " [[ 1  2  3  4  5]\n",
      " [ 6  7  8  9 10]\n",
      " [11 12 13 14 15]\n",
      " [16 17 18 19 20]\n",
      " [21 22 23 24 25]]\n",
      "E[1,4]= 10\n"
     ]
    }
   ],
   "source": [
    "E = np.arange(1,26).reshape(5,5); print('E=\\n', E); print('E[1,4]=', E[1,4])"
   ]
  },
  {
   "cell_type": "markdown",
   "id": "c1e6327f",
   "metadata": {},
   "source": [
    "### a(2,:)  \n",
    "**NumPy:** `a[1] or a[1,:]`"
   ]
  },
  {
   "cell_type": "code",
   "execution_count": 12,
   "id": "44c514e4",
   "metadata": {},
   "outputs": [
    {
     "name": "stdout",
     "output_type": "stream",
     "text": [
      "E[1]= [ 6  7  8  9 10]\n"
     ]
    }
   ],
   "source": [
    "print('E[1]=', E[1])"
   ]
  },
  {
   "cell_type": "markdown",
   "id": "ae681daf",
   "metadata": {},
   "source": [
    "### a(1:5,:)  \n",
    "**NumPy:** `a[0:5] or a[:5] or a[0:5,:]`"
   ]
  },
  {
   "cell_type": "code",
   "execution_count": 13,
   "id": "cd7ac30e",
   "metadata": {},
   "outputs": [
    {
     "name": "stdout",
     "output_type": "stream",
     "text": [
      "E[0:5,:]=\n",
      " [[ 1  2  3  4  5]\n",
      " [ 6  7  8  9 10]\n",
      " [11 12 13 14 15]\n",
      " [16 17 18 19 20]\n",
      " [21 22 23 24 25]]\n"
     ]
    }
   ],
   "source": [
    "print('E[0:5,:]=\\n', E[0:5,:])"
   ]
  },
  {
   "cell_type": "markdown",
   "id": "39810933",
   "metadata": {},
   "source": [
    "### a(end-4:end,:)  \n",
    "**NumPy:** `a[-5:]`"
   ]
  },
  {
   "cell_type": "code",
   "execution_count": 14,
   "id": "c959616d",
   "metadata": {},
   "outputs": [
    {
     "name": "stdout",
     "output_type": "stream",
     "text": [
      "E[-5:,:]=\n",
      " [[ 1  2  3  4  5]\n",
      " [ 6  7  8  9 10]\n",
      " [11 12 13 14 15]\n",
      " [16 17 18 19 20]\n",
      " [21 22 23 24 25]]\n"
     ]
    }
   ],
   "source": [
    "print('E[-5:,:]=\\n', E[-5:,:])"
   ]
  },
  {
   "cell_type": "markdown",
   "id": "2a7f0c98",
   "metadata": {},
   "source": [
    "### a(1:3,5:9)  \n",
    "**NumPy:** `a[0:3,4:9]`"
   ]
  },
  {
   "cell_type": "code",
   "execution_count": 15,
   "id": "9f40e381",
   "metadata": {},
   "outputs": [
    {
     "name": "stdout",
     "output_type": "stream",
     "text": [
      "E2[0:3,4:9]=\n",
      " [[ 5  6  7  8  9]\n",
      " [15 16 17 18 19]\n",
      " [25 26 27 28 29]]\n"
     ]
    }
   ],
   "source": [
    "E2 = np.arange(1,101).reshape(10,10); print('E2[0:3,4:9]=\\n', E2[0:3,4:9])"
   ]
  },
  {
   "cell_type": "markdown",
   "id": "6a15bc91",
   "metadata": {},
   "source": [
    "### a([2,4,5],[1,3])  \n",
    "**NumPy:** `a[np.ix_([1,3,4],[0,2])]`"
   ]
  },
  {
   "cell_type": "code",
   "execution_count": 16,
   "id": "f4590e87",
   "metadata": {},
   "outputs": [
    {
     "name": "stdout",
     "output_type": "stream",
     "text": [
      "Advanced sel=\n",
      " [[11 13]\n",
      " [31 33]\n",
      " [41 43]]\n"
     ]
    }
   ],
   "source": [
    "print('Advanced sel=\\n', E2[np.ix_([1,3,4],[0,2])])"
   ]
  },
  {
   "cell_type": "markdown",
   "id": "393f7982",
   "metadata": {},
   "source": [
    "### a(3:2:21,:)  \n",
    "**NumPy:** `a[2:21:2,:]`"
   ]
  },
  {
   "cell_type": "code",
   "execution_count": 17,
   "id": "c10e6650",
   "metadata": {},
   "outputs": [
    {
     "name": "stdout",
     "output_type": "stream",
     "text": [
      "shape (10, 5)\n"
     ]
    }
   ],
   "source": [
    "E3 = np.arange(1,116).reshape(23,5); print('shape', E3[2:21:2,:].shape)"
   ]
  },
  {
   "cell_type": "markdown",
   "id": "8d929e0f",
   "metadata": {},
   "source": [
    "### a(1:2:end,:)  \n",
    "**NumPy:** `a[::2,:]`"
   ]
  },
  {
   "cell_type": "code",
   "execution_count": 18,
   "id": "24280b67",
   "metadata": {},
   "outputs": [
    {
     "name": "stdout",
     "output_type": "stream",
     "text": [
      "shape (12, 5)\n"
     ]
    }
   ],
   "source": [
    "print('shape', E3[::2,:].shape)"
   ]
  },
  {
   "cell_type": "markdown",
   "id": "fea49ff8",
   "metadata": {},
   "source": [
    "### a(end:-1:1,:) or flipud(a)  \n",
    "**NumPy:** `a[::-1,:]`"
   ]
  },
  {
   "cell_type": "code",
   "execution_count": 19,
   "id": "2b9f31a5",
   "metadata": {},
   "outputs": [
    {
     "name": "stdout",
     "output_type": "stream",
     "text": [
      "flip rows=\n",
      " [[21 22 23 24 25]\n",
      " [16 17 18 19 20]\n",
      " [11 12 13 14 15]\n",
      " [ 6  7  8  9 10]\n",
      " [ 1  2  3  4  5]]\n"
     ]
    }
   ],
   "source": [
    "print('flip rows=\\n', E[::-1,:])"
   ]
  },
  {
   "cell_type": "markdown",
   "id": "b483e343",
   "metadata": {},
   "source": [
    "### a([1:end 1],:)  \n",
    "**NumPy:** `a[np.r_[:len(a),0]]`"
   ]
  },
  {
   "cell_type": "code",
   "execution_count": 20,
   "id": "cb199176",
   "metadata": {},
   "outputs": [
    {
     "name": "stdout",
     "output_type": "stream",
     "text": [
      "F=\n",
      " [[ 1  2  3]\n",
      " [ 4  5  6]\n",
      " [ 7  8  9]\n",
      " [10 11 12]]\n",
      "F with first row appended=\n",
      " [[ 1  2  3]\n",
      " [ 4  5  6]\n",
      " [ 7  8  9]\n",
      " [10 11 12]\n",
      " [ 1  2  3]]\n"
     ]
    }
   ],
   "source": [
    "F = np.arange(1,13).reshape(4,3); print('F=\\n', F); print('F with first row appended=\\n', F[np.r_[:len(F),0],:])"
   ]
  },
  {
   "cell_type": "markdown",
   "id": "abcf08e8",
   "metadata": {},
   "source": [
    "### a.'  \n",
    "**NumPy:** `a.transpose() or a.T`"
   ]
  },
  {
   "cell_type": "code",
   "execution_count": 21,
   "id": "25a9612a",
   "metadata": {},
   "outputs": [
    {
     "name": "stdout",
     "output_type": "stream",
     "text": [
      "A.T=\n",
      " [[1. 4.]\n",
      " [2. 5.]\n",
      " [3. 6.]]\n"
     ]
    }
   ],
   "source": [
    "print('A.T=\\n', A.T)"
   ]
  },
  {
   "cell_type": "markdown",
   "id": "b0873d33",
   "metadata": {},
   "source": [
    "### a' (conjugate transpose)  \n",
    "**NumPy:** `a.conj().T`"
   ]
  },
  {
   "cell_type": "code",
   "execution_count": 22,
   "id": "5f187a84",
   "metadata": {},
   "outputs": [
    {
     "name": "stdout",
     "output_type": "stream",
     "text": [
      "Z.conj().T=\n",
      " [[1.-2.j 3.-0.j]\n",
      " [2.+1.j 4.-5.j]]\n"
     ]
    }
   ],
   "source": [
    "Z = np.array([[1+2j,2-1j],[3+0j,4+5j]]); print('Z.conj().T=\\n', Z.conj().T)"
   ]
  },
  {
   "cell_type": "markdown",
   "id": "f483dc0c",
   "metadata": {},
   "source": [
    "### a * b (matrix multiply)  \n",
    "**NumPy:** `a @ b`"
   ]
  },
  {
   "cell_type": "code",
   "execution_count": 23,
   "id": "a03611d6",
   "metadata": {},
   "outputs": [
    {
     "name": "stdout",
     "output_type": "stream",
     "text": [
      "G@H=\n",
      " [[19. 22.]\n",
      " [43. 50.]]\n"
     ]
    }
   ],
   "source": [
    "G = np.array([[1.,2.],[3.,4.]]); H = np.array([[5.,6.],[7.,8.]]); print('G@H=\\n', G@H)"
   ]
  },
  {
   "cell_type": "markdown",
   "id": "313f0038",
   "metadata": {},
   "source": [
    "### a .* b  \n",
    "**NumPy:** `a * b`"
   ]
  },
  {
   "cell_type": "code",
   "execution_count": 24,
   "id": "c87e454a",
   "metadata": {},
   "outputs": [
    {
     "name": "stdout",
     "output_type": "stream",
     "text": [
      "G*H=\n",
      " [[ 5. 12.]\n",
      " [21. 32.]]\n"
     ]
    }
   ],
   "source": [
    "print('G*H=\\n', G*H)"
   ]
  },
  {
   "cell_type": "markdown",
   "id": "2997e3dc",
   "metadata": {},
   "source": [
    "### a./b  \n",
    "**NumPy:** `a/b`"
   ]
  },
  {
   "cell_type": "code",
   "execution_count": 25,
   "id": "9137944f",
   "metadata": {},
   "outputs": [
    {
     "name": "stdout",
     "output_type": "stream",
     "text": [
      "G/H=\n",
      " [[0.2    0.3333]\n",
      " [0.4286 0.5   ]]\n"
     ]
    }
   ],
   "source": [
    "print('G/H=\\n', G/H)"
   ]
  },
  {
   "cell_type": "markdown",
   "id": "1dca6db5",
   "metadata": {},
   "source": [
    "### a.^3  \n",
    "**NumPy:** `a**3`"
   ]
  },
  {
   "cell_type": "code",
   "execution_count": 26,
   "id": "7057752e",
   "metadata": {},
   "outputs": [
    {
     "name": "stdout",
     "output_type": "stream",
     "text": [
      "G**3=\n",
      " [[ 1.  8.]\n",
      " [27. 64.]]\n"
     ]
    }
   ],
   "source": [
    "print('G**3=\\n', G**3)"
   ]
  },
  {
   "cell_type": "markdown",
   "id": "67b8ea57",
   "metadata": {},
   "source": [
    "### (a > 0.5)  \n",
    "**NumPy:** `(a > 0.5)`"
   ]
  },
  {
   "cell_type": "code",
   "execution_count": 27,
   "id": "f9693eca",
   "metadata": {},
   "outputs": [
    {
     "name": "stdout",
     "output_type": "stream",
     "text": [
      "(G>0.5)=\n",
      " [[ True  True]\n",
      " [ True  True]]\n"
     ]
    }
   ],
   "source": [
    "print('(G>0.5)=\\n', (G>0.5))"
   ]
  },
  {
   "cell_type": "markdown",
   "id": "74e8dab1",
   "metadata": {},
   "source": [
    "### find(a > 0.5)  \n",
    "**NumPy:** `np.nonzero(a > 0.5)`"
   ]
  },
  {
   "cell_type": "code",
   "execution_count": 28,
   "id": "12bf412e",
   "metadata": {},
   "outputs": [
    {
     "name": "stdout",
     "output_type": "stream",
     "text": [
      "nonzero indices= (array([0, 0, 1, 1]), array([0, 1, 0, 1]))\n"
     ]
    }
   ],
   "source": [
    "print('nonzero indices=', np.nonzero(G>0.5))"
   ]
  },
  {
   "cell_type": "markdown",
   "id": "ea24cfca",
   "metadata": {},
   "source": [
    "### a(:,find(v > 0.5))  \n",
    "**NumPy:** `a[:, np.nonzero(v>0.5)[0]]`"
   ]
  },
  {
   "cell_type": "code",
   "execution_count": 29,
   "id": "7ba3ebfa",
   "metadata": {},
   "outputs": [
    {
     "name": "stdout",
     "output_type": "stream",
     "text": [
      "A2[:,cols]=\n",
      " [[ 2.  3.]\n",
      " [ 6.  7.]\n",
      " [10. 11.]]\n"
     ]
    }
   ],
   "source": [
    "A2 = np.arange(1.,13.).reshape(3,4); vcol = np.array([0.4,0.6,0.9,0.2]); cols = np.nonzero(vcol>0.5)[0]; print('A2[:,cols]=\\n', A2[:,cols])"
   ]
  },
  {
   "cell_type": "markdown",
   "id": "fa8f9634",
   "metadata": {},
   "source": [
    "### a(:,find(v>0.5)) (column v)  \n",
    "**NumPy:** `a[:, (v.T>0.5).ravel()]`"
   ]
  },
  {
   "cell_type": "code",
   "execution_count": 30,
   "id": "b3849b52",
   "metadata": {},
   "outputs": [
    {
     "name": "stdout",
     "output_type": "stream",
     "text": [
      "mask= [False  True  True False]\n",
      "A2[:,mask]=\n",
      " [[ 2.  3.]\n",
      " [ 6.  7.]\n",
      " [10. 11.]]\n"
     ]
    }
   ],
   "source": [
    "vcol_vec = np.array([[0.4],[0.6],[0.9],[0.2]]).T; mask = (vcol_vec>0.5).ravel(); print('mask=', mask); print('A2[:,mask]=\\n', A2[:,mask])"
   ]
  },
  {
   "cell_type": "markdown",
   "id": "7210da24",
   "metadata": {},
   "source": [
    "### a(a<0.5)=0  \n",
    "**NumPy:** `a[a<0.5]=0`"
   ]
  },
  {
   "cell_type": "code",
   "execution_count": 31,
   "id": "1e8bf4a2",
   "metadata": {},
   "outputs": [
    {
     "name": "stdout",
     "output_type": "stream",
     "text": [
      "X=\n",
      " [[0.  0.  0. ]\n",
      " [0.6 0.8 1. ]]\n"
     ]
    }
   ],
   "source": [
    "X = np.linspace(0.,1.,6).reshape(2,3); X[X<0.5]=0; print('X=\\n', X)"
   ]
  },
  {
   "cell_type": "markdown",
   "id": "91a68dfc",
   "metadata": {},
   "source": [
    "### a .* (a>0.5)  \n",
    "**NumPy:** `a * (a>0.5)`"
   ]
  },
  {
   "cell_type": "code",
   "execution_count": 32,
   "id": "33714997",
   "metadata": {},
   "outputs": [
    {
     "name": "stdout",
     "output_type": "stream",
     "text": [
      "Y*(Y>0.5)=\n",
      " [[0.  0.  0. ]\n",
      " [0.6 0.8 1. ]]\n"
     ]
    }
   ],
   "source": [
    "Y = np.linspace(0.,1.,6).reshape(2,3); print('Y*(Y>0.5)=\\n', Y*(Y>0.5))"
   ]
  },
  {
   "cell_type": "markdown",
   "id": "2284c05d",
   "metadata": {},
   "source": [
    "### a(:) = 3  \n",
    "**NumPy:** `a[:] = 3`"
   ]
  },
  {
   "cell_type": "code",
   "execution_count": 33,
   "id": "dab98d1e",
   "metadata": {},
   "outputs": [
    {
     "name": "stdout",
     "output_type": "stream",
     "text": [
      "Z=\n",
      " [[3. 3. 3.]\n",
      " [3. 3. 3.]]\n"
     ]
    }
   ],
   "source": [
    "Z = np.zeros((2,3)); Z[:] = 3; print('Z=\\n', Z)"
   ]
  },
  {
   "cell_type": "markdown",
   "id": "d350f09e",
   "metadata": {},
   "source": [
    "### y=x (copy semantics)  \n",
    "**NumPy:** `y = x.copy()  (NumPy assigns by reference)`"
   ]
  },
  {
   "cell_type": "code",
   "execution_count": 34,
   "id": "2521e1eb",
   "metadata": {},
   "outputs": [
    {
     "name": "stdout",
     "output_type": "stream",
     "text": [
      "x=\n",
      " [[999   1   2]\n",
      " [  3   4   5]]\n",
      "y(copy)=\n",
      " [[0 1 2]\n",
      " [3 4 5]]\n"
     ]
    }
   ],
   "source": [
    "x = np.arange(6).reshape(2,3); y = x.copy(); x[0,0]=999; print('x=\\n', x); print('y(copy)=\\n', y)"
   ]
  },
  {
   "cell_type": "markdown",
   "id": "fc598461",
   "metadata": {},
   "source": [
    "### y=x(2,:)  \n",
    "**NumPy:** `y = x[1,:].copy()`"
   ]
  },
  {
   "cell_type": "code",
   "execution_count": 35,
   "id": "a4bf86fe",
   "metadata": {},
   "outputs": [
    {
     "name": "stdout",
     "output_type": "stream",
     "text": [
      "x=\n",
      " [[   0    1    2    3]\n",
      " [-123    5    6    7]\n",
      " [   8    9   10   11]]\n",
      "y(copy)= [4 5 6 7]\n"
     ]
    }
   ],
   "source": [
    "x = np.arange(12).reshape(3,4); y = x[1,:].copy(); x[1,0]=-123; print('x=\\n', x); print('y(copy)=', y)"
   ]
  },
  {
   "cell_type": "markdown",
   "id": "76bcf945",
   "metadata": {},
   "source": [
    "### y=x(:)  \n",
    "**NumPy:** `y = x.flatten()`"
   ]
  },
  {
   "cell_type": "code",
   "execution_count": 36,
   "id": "d198a413",
   "metadata": {},
   "outputs": [
    {
     "name": "stdout",
     "output_type": "stream",
     "text": [
      "r.flatten()= [1 2 3 4 5 6]\n",
      "r.flatten(\"F\")= [1 4 2 5 3 6]\n"
     ]
    }
   ],
   "source": [
    "r = np.arange(1,7).reshape(2,3); print('r.flatten()=', r.flatten()); print('r.flatten(\"F\")=', r.flatten('F'))"
   ]
  },
  {
   "cell_type": "markdown",
   "id": "cdfba0e6",
   "metadata": {},
   "source": [
    "### 1:10  \n",
    "**NumPy:** `np.arange(1.,11.) or np.r_[1.:11.] or np.r_[1:10:10j]`"
   ]
  },
  {
   "cell_type": "code",
   "execution_count": 37,
   "id": "deaf8ee6",
   "metadata": {},
   "outputs": [
    {
     "name": "stdout",
     "output_type": "stream",
     "text": [
      "[ 1.  2.  3.  4.  5.  6.  7.  8.  9. 10.]\n",
      "[ 1.  2.  3.  4.  5.  6.  7.  8.  9. 10.]\n",
      "[ 1.  2.  3.  4.  5.  6.  7.  8.  9. 10.]\n"
     ]
    }
   ],
   "source": [
    "print(np.arange(1.,11.)); print(np.r_[1.:11.]); print(np.r_[1:10:10j])"
   ]
  },
  {
   "cell_type": "markdown",
   "id": "cb6b4f0f",
   "metadata": {},
   "source": [
    "### 0:9  \n",
    "**NumPy:** `np.arange(10.) or np.r_[:10.] or np.r_[:9:10j]`"
   ]
  },
  {
   "cell_type": "code",
   "execution_count": 38,
   "id": "bef70448",
   "metadata": {},
   "outputs": [
    {
     "name": "stdout",
     "output_type": "stream",
     "text": [
      "[0. 1. 2. 3. 4. 5. 6. 7. 8. 9.]\n",
      "[0. 1. 2. 3. 4. 5. 6. 7. 8. 9.]\n",
      "[0. 1. 2. 3. 4. 5. 6. 7. 8. 9.]\n"
     ]
    }
   ],
   "source": [
    "print(np.arange(10.)); print(np.r_[:10.]); print(np.r_[:9:10j])"
   ]
  },
  {
   "cell_type": "markdown",
   "id": "d5ee4213",
   "metadata": {},
   "source": [
    "### [1:10]'  \n",
    "**NumPy:** `np.arange(1.,11.)[:, np.newaxis]`"
   ]
  },
  {
   "cell_type": "code",
   "execution_count": 39,
   "id": "dc6a31bf",
   "metadata": {},
   "outputs": [
    {
     "name": "stdout",
     "output_type": "stream",
     "text": [
      "[[ 1.]\n",
      " [ 2.]\n",
      " [ 3.]\n",
      " [ 4.]\n",
      " [ 5.]\n",
      " [ 6.]\n",
      " [ 7.]\n",
      " [ 8.]\n",
      " [ 9.]\n",
      " [10.]]\n"
     ]
    }
   ],
   "source": [
    "print(np.arange(1.,11.)[:, np.newaxis])"
   ]
  },
  {
   "cell_type": "markdown",
   "id": "0157ba07",
   "metadata": {},
   "source": [
    "### zeros(3,4)  \n",
    "**NumPy:** `np.zeros((3,4))`"
   ]
  },
  {
   "cell_type": "code",
   "execution_count": 40,
   "id": "3e3578c3",
   "metadata": {},
   "outputs": [
    {
     "name": "stdout",
     "output_type": "stream",
     "text": [
      "[[0. 0. 0. 0.]\n",
      " [0. 0. 0. 0.]\n",
      " [0. 0. 0. 0.]]\n"
     ]
    }
   ],
   "source": [
    "print(np.zeros((3,4)))"
   ]
  },
  {
   "cell_type": "markdown",
   "id": "5c72a044",
   "metadata": {},
   "source": [
    "### zeros(3,4,5)  \n",
    "**NumPy:** `np.zeros((3,4,5))`"
   ]
  },
  {
   "cell_type": "code",
   "execution_count": 41,
   "id": "20c43bb4",
   "metadata": {},
   "outputs": [
    {
     "name": "stdout",
     "output_type": "stream",
     "text": [
      "shape (3, 4, 5)\n"
     ]
    }
   ],
   "source": [
    "print('shape', np.zeros((3,4,5)).shape)"
   ]
  },
  {
   "cell_type": "markdown",
   "id": "808a32e3",
   "metadata": {},
   "source": [
    "### ones(3,4)  \n",
    "**NumPy:** `np.ones((3,4))`"
   ]
  },
  {
   "cell_type": "code",
   "execution_count": 42,
   "id": "dccabf5d",
   "metadata": {},
   "outputs": [
    {
     "name": "stdout",
     "output_type": "stream",
     "text": [
      "[[1. 1. 1. 1.]\n",
      " [1. 1. 1. 1.]\n",
      " [1. 1. 1. 1.]]\n"
     ]
    }
   ],
   "source": [
    "print(np.ones((3,4)))"
   ]
  },
  {
   "cell_type": "markdown",
   "id": "56b2d4a0",
   "metadata": {},
   "source": [
    "### eye(3)  \n",
    "**NumPy:** `np.eye(3)`"
   ]
  },
  {
   "cell_type": "code",
   "execution_count": 43,
   "id": "fd5c03ea",
   "metadata": {},
   "outputs": [
    {
     "name": "stdout",
     "output_type": "stream",
     "text": [
      "[[1. 0. 0.]\n",
      " [0. 1. 0.]\n",
      " [0. 0. 1.]]\n"
     ]
    }
   ],
   "source": [
    "print(np.eye(3))"
   ]
  },
  {
   "cell_type": "markdown",
   "id": "6707601d",
   "metadata": {},
   "source": [
    "### diag(a)  \n",
    "**NumPy:** `np.diag(a)`"
   ]
  },
  {
   "cell_type": "code",
   "execution_count": 44,
   "id": "113b1ecb",
   "metadata": {},
   "outputs": [
    {
     "name": "stdout",
     "output_type": "stream",
     "text": [
      "diag(A)= [1. 5.]\n"
     ]
    }
   ],
   "source": [
    "print('diag(A)=', np.diag(A))"
   ]
  },
  {
   "cell_type": "markdown",
   "id": "e9d6ca8b",
   "metadata": {},
   "source": [
    "### diag(v,0)  \n",
    "**NumPy:** `np.diag(v, 0)`"
   ]
  },
  {
   "cell_type": "code",
   "execution_count": 45,
   "id": "a38dee64",
   "metadata": {},
   "outputs": [
    {
     "name": "stdout",
     "output_type": "stream",
     "text": [
      "[[9 0 0]\n",
      " [0 8 0]\n",
      " [0 0 7]]\n"
     ]
    }
   ],
   "source": [
    "v2 = np.array([9,8,7]); print(np.diag(v2, 0))"
   ]
  },
  {
   "cell_type": "markdown",
   "id": "ca899795",
   "metadata": {},
   "source": [
    "### rng(42,'twister'); rand(3,4)  \n",
    "**NumPy:** `default_rng(42); rng.random((3,4))`"
   ]
  },
  {
   "cell_type": "code",
   "execution_count": 46,
   "id": "1c8bd838",
   "metadata": {},
   "outputs": [
    {
     "name": "stdout",
     "output_type": "stream",
     "text": [
      "[[0.774  0.4389 0.8586 0.6974]\n",
      " [0.0942 0.9756 0.7611 0.7861]\n",
      " [0.1281 0.4504 0.3708 0.9268]]\n"
     ]
    }
   ],
   "source": [
    "rng = default_rng(42); print(rng.random((3,4)))"
   ]
  },
  {
   "cell_type": "markdown",
   "id": "2c176976",
   "metadata": {},
   "source": [
    "### linspace(1,3,4)  \n",
    "**NumPy:** `np.linspace(1,3,4)`"
   ]
  },
  {
   "cell_type": "code",
   "execution_count": 47,
   "id": "32a09ee5",
   "metadata": {},
   "outputs": [
    {
     "name": "stdout",
     "output_type": "stream",
     "text": [
      "[1.     1.6667 2.3333 3.    ]\n"
     ]
    }
   ],
   "source": [
    "print(np.linspace(1,3,4))"
   ]
  },
  {
   "cell_type": "markdown",
   "id": "da00588a",
   "metadata": {},
   "source": [
    "### [x,y]=meshgrid(0:8,0:5)  \n",
    "**NumPy:** `np.meshgrid(np.r_[0:9.], np.r_[0:6.])`"
   ]
  },
  {
   "cell_type": "code",
   "execution_count": 48,
   "id": "e26a408c",
   "metadata": {},
   "outputs": [
    {
     "name": "stdout",
     "output_type": "stream",
     "text": [
      "(6, 9) (6, 9)\n"
     ]
    }
   ],
   "source": [
    "X,Y = np.meshgrid(np.r_[0:9.], np.r_[0:6.]); print(X.shape, Y.shape)"
   ]
  },
  {
   "cell_type": "markdown",
   "id": "4c0e5825",
   "metadata": {},
   "source": [
    "### ogrid[0:9.,0:6.] or ix_(...)  \n",
    "**NumPy:** `np.ogrid / np.ix_`"
   ]
  },
  {
   "cell_type": "code",
   "execution_count": 49,
   "id": "2dbc3a4d",
   "metadata": {},
   "outputs": [
    {
     "name": "stdout",
     "output_type": "stream",
     "text": [
      "ogrid shapes: (9, 1) (1, 6)\n",
      "ix_ shapes: (9, 1) (1, 6)\n"
     ]
    }
   ],
   "source": [
    "OgX, OgY = np.ogrid[0:9., 0:6.]; print('ogrid shapes:', OgX.shape, OgY.shape); Xix,Yix = np.ix_(np.r_[0:9.], np.r_[0:6.]); print('ix_ shapes:', Xix.shape, Yix.shape)"
   ]
  },
  {
   "cell_type": "markdown",
   "id": "83428b9a",
   "metadata": {},
   "source": [
    "### [x,y]=meshgrid([1,2,4],[2,4,5])  \n",
    "**NumPy:** `np.meshgrid([1,2,4],[2,4,5])`"
   ]
  },
  {
   "cell_type": "code",
   "execution_count": 50,
   "id": "162bce96",
   "metadata": {},
   "outputs": [
    {
     "name": "stdout",
     "output_type": "stream",
     "text": [
      "(3, 3) (3, 3)\n"
     ]
    }
   ],
   "source": [
    "X2,Y2 = np.meshgrid([1,2,4],[2,4,5]); print(X2.shape, Y2.shape)"
   ]
  },
  {
   "cell_type": "markdown",
   "id": "afc8ba0b",
   "metadata": {},
   "source": [
    "### np.ix_([1,2,4],[2,4,5])  \n",
    "**NumPy:** `np.ix_`"
   ]
  },
  {
   "cell_type": "code",
   "execution_count": 51,
   "id": "d015dd39",
   "metadata": {},
   "outputs": [
    {
     "name": "stdout",
     "output_type": "stream",
     "text": [
      "(3, 1) (1, 3)\n"
     ]
    }
   ],
   "source": [
    "X3,Y3 = np.ix_([1,2,4], [2,4,5]); print(X3.shape, Y3.shape)"
   ]
  },
  {
   "cell_type": "markdown",
   "id": "05c2368a",
   "metadata": {},
   "source": [
    "### repmat(a,m,n)  \n",
    "**NumPy:** `np.tile(a,(m,n))`"
   ]
  },
  {
   "cell_type": "code",
   "execution_count": 52,
   "id": "c7e178a1",
   "metadata": {},
   "outputs": [
    {
     "name": "stdout",
     "output_type": "stream",
     "text": [
      "[[1 2 1 2 1 2]\n",
      " [3 4 3 4 3 4]\n",
      " [1 2 1 2 1 2]\n",
      " [3 4 3 4 3 4]]\n"
     ]
    }
   ],
   "source": [
    "t = np.array([[1,2],[3,4]]); print(np.tile(t,(2,3)))"
   ]
  },
  {
   "cell_type": "markdown",
   "id": "f257b764",
   "metadata": {},
   "source": [
    "### [a b]  \n",
    "**NumPy:** `np.hstack/np.column_stack/np.c_`"
   ]
  },
  {
   "cell_type": "code",
   "execution_count": 53,
   "id": "4d20eab4",
   "metadata": {},
   "outputs": [
    {
     "name": "stdout",
     "output_type": "stream",
     "text": [
      "[[ 1 10]\n",
      " [ 2 20]\n",
      " [ 3 30]]\n",
      "[[ 1 10]\n",
      " [ 2 20]\n",
      " [ 3 30]]\n",
      "[[ 1 10]\n",
      " [ 2 20]\n",
      " [ 3 30]]\n"
     ]
    }
   ],
   "source": [
    "a1 = np.array([[1],[2],[3]]); b1 = np.array([[10],[20],[30]]); print(np.hstack((a1,b1))); print(np.column_stack((a1,b1))); print(np.c_[a1,b1])"
   ]
  },
  {
   "cell_type": "markdown",
   "id": "e4597919",
   "metadata": {},
   "source": [
    "### [a; b]  \n",
    "**NumPy:** `np.vstack or np.r_`"
   ]
  },
  {
   "cell_type": "code",
   "execution_count": 54,
   "id": "7d11a958",
   "metadata": {},
   "outputs": [
    {
     "name": "stdout",
     "output_type": "stream",
     "text": [
      "[[  1   2]\n",
      " [  3   4]\n",
      " [100 200]]\n",
      "[[  1   2]\n",
      " [  3   4]\n",
      " [100 200]]\n"
     ]
    }
   ],
   "source": [
    "t = np.array([[1,2],[3,4]]); r = np.array([[100,200]]); print(np.vstack((t,r))); print(np.r_[t,r])"
   ]
  },
  {
   "cell_type": "markdown",
   "id": "7ffd03ea",
   "metadata": {},
   "source": [
    "### max(max(a))  \n",
    "**NumPy:** `a.max() or np.nanmax(a)`"
   ]
  },
  {
   "cell_type": "code",
   "execution_count": 55,
   "id": "e1c21131",
   "metadata": {},
   "outputs": [
    {
     "name": "stdout",
     "output_type": "stream",
     "text": [
      "nanmax(W)= 6.0\n"
     ]
    }
   ],
   "source": [
    "W = np.array([[1., np.nan, 3.],[4.,5.,6.]]); print('nanmax(W)=', np.nanmax(W))"
   ]
  },
  {
   "cell_type": "markdown",
   "id": "5a7d2e19",
   "metadata": {},
   "source": [
    "### max(a)  \n",
    "**NumPy:** `a.max(0)`"
   ]
  },
  {
   "cell_type": "code",
   "execution_count": 56,
   "id": "947dedf1",
   "metadata": {},
   "outputs": [
    {
     "name": "stdout",
     "output_type": "stream",
     "text": [
      "col-wise max= [9 5 3]\n"
     ]
    }
   ],
   "source": [
    "Zc = np.array([[1,5,3],[9,0,2]]); print('col-wise max=', Zc.max(0))"
   ]
  },
  {
   "cell_type": "markdown",
   "id": "f4b614b7",
   "metadata": {},
   "source": [
    "### max(a,[],2)  \n",
    "**NumPy:** `a.max(1)`"
   ]
  },
  {
   "cell_type": "code",
   "execution_count": 57,
   "id": "3855b54d",
   "metadata": {},
   "outputs": [
    {
     "name": "stdout",
     "output_type": "stream",
     "text": [
      "row-wise max= [5 9]\n"
     ]
    }
   ],
   "source": [
    "print('row-wise max=', Zc.max(1))"
   ]
  },
  {
   "cell_type": "markdown",
   "id": "5e2721b9",
   "metadata": {},
   "source": [
    "### max(a,b)  \n",
    "**NumPy:** `np.maximum(a,b)`"
   ]
  },
  {
   "cell_type": "code",
   "execution_count": 58,
   "id": "40125d74",
   "metadata": {},
   "outputs": [
    {
     "name": "stdout",
     "output_type": "stream",
     "text": [
      "[[2 5 3]\n",
      " [9 1 8]]\n"
     ]
    }
   ],
   "source": [
    "E1 = np.array([[1,5,3],[9,0,2]]); E2 = np.array([[2,4,3],[7,1,8]]); print(np.maximum(E1,E2))"
   ]
  },
  {
   "cell_type": "markdown",
   "id": "fb3fc33f",
   "metadata": {},
   "source": [
    "### norm(v)  \n",
    "**NumPy:** `np.sqrt(v@v) or np.linalg.norm(v)`"
   ]
  },
  {
   "cell_type": "code",
   "execution_count": 59,
   "id": "177ee197",
   "metadata": {},
   "outputs": [
    {
     "name": "stdout",
     "output_type": "stream",
     "text": [
      "5.0\n",
      "5.0\n"
     ]
    }
   ],
   "source": [
    "w = np.array([3.,4.]); print(np.sqrt(w@w)); print(np.linalg.norm(w))"
   ]
  },
  {
   "cell_type": "markdown",
   "id": "4929f066",
   "metadata": {},
   "source": [
    "### a & b (logical AND)  \n",
    "**NumPy:** `np.logical_and(a,b)`"
   ]
  },
  {
   "cell_type": "code",
   "execution_count": 60,
   "id": "dbf8d8b9",
   "metadata": {},
   "outputs": [
    {
     "name": "stdout",
     "output_type": "stream",
     "text": [
      "[ True False False]\n"
     ]
    }
   ],
   "source": [
    "p = np.array([True,False,True]); q = np.array([True,True,False]); print(np.logical_and(p,q))"
   ]
  },
  {
   "cell_type": "markdown",
   "id": "e6737d9a",
   "metadata": {},
   "source": [
    "### a | b (logical OR)  \n",
    "**NumPy:** `np.logical_or(a,b)`"
   ]
  },
  {
   "cell_type": "code",
   "execution_count": 61,
   "id": "034856c3",
   "metadata": {},
   "outputs": [
    {
     "name": "stdout",
     "output_type": "stream",
     "text": [
      "[ True  True  True]\n"
     ]
    }
   ],
   "source": [
    "print(np.logical_or(p,q))"
   ]
  },
  {
   "cell_type": "markdown",
   "id": "52c838a6",
   "metadata": {},
   "source": [
    "### bitand(a,b)  \n",
    "**NumPy:** `a & b (bitwise)`"
   ]
  },
  {
   "cell_type": "code",
   "execution_count": 62,
   "id": "6c6c56cc",
   "metadata": {},
   "outputs": [
    {
     "name": "stdout",
     "output_type": "stream",
     "text": [
      "[1 0 2]\n"
     ]
    }
   ],
   "source": [
    "x = np.array([1,0,3], dtype=int); y = np.array([1,1,2], dtype=int); print(x & y)"
   ]
  },
  {
   "cell_type": "markdown",
   "id": "b4e707d7",
   "metadata": {},
   "source": [
    "### bitor(a,b)  \n",
    "**NumPy:** `a | b (bitwise)`"
   ]
  },
  {
   "cell_type": "code",
   "execution_count": 63,
   "id": "dec6b93a",
   "metadata": {},
   "outputs": [
    {
     "name": "stdout",
     "output_type": "stream",
     "text": [
      "[1 1 3]\n"
     ]
    }
   ],
   "source": [
    "print(x | y)"
   ]
  },
  {
   "cell_type": "markdown",
   "id": "48823d27",
   "metadata": {},
   "source": [
    "### inv(a)  \n",
    "**NumPy:** `linalg.inv(a)`"
   ]
  },
  {
   "cell_type": "code",
   "execution_count": 64,
   "id": "ec8a46b2",
   "metadata": {},
   "outputs": [
    {
     "name": "stdout",
     "output_type": "stream",
     "text": [
      "[[0.75 0.5  0.25]\n",
      " [0.5  1.   0.5 ]\n",
      " [0.25 0.5  0.75]]\n"
     ]
    }
   ],
   "source": [
    "print(LA.inv(M))"
   ]
  },
  {
   "cell_type": "markdown",
   "id": "980e484b",
   "metadata": {},
   "source": [
    "### pinv(a)  \n",
    "**NumPy:** `linalg.pinv(a)`"
   ]
  },
  {
   "cell_type": "code",
   "execution_count": 65,
   "id": "6ef8d43c",
   "metadata": {},
   "outputs": [
    {
     "name": "stdout",
     "output_type": "stream",
     "text": [
      "[[0.75 0.5  0.25]\n",
      " [0.5  1.   0.5 ]\n",
      " [0.25 0.5  0.75]]\n"
     ]
    }
   ],
   "source": [
    "print(LA.pinv(M))"
   ]
  },
  {
   "cell_type": "markdown",
   "id": "87559249",
   "metadata": {},
   "source": [
    "### rank(a)  \n",
    "**NumPy:** `np.linalg.matrix_rank(a)`"
   ]
  },
  {
   "cell_type": "code",
   "execution_count": 66,
   "id": "9da7fb3f",
   "metadata": {},
   "outputs": [
    {
     "name": "stdout",
     "output_type": "stream",
     "text": [
      "3\n"
     ]
    }
   ],
   "source": [
    "print(np.linalg.matrix_rank(M))"
   ]
  },
  {
   "cell_type": "markdown",
   "id": "6c55017f",
   "metadata": {},
   "source": [
    "### a\\\\b  \n",
    "**NumPy:** `linalg.solve(a,b) if square; linalg.lstsq otherwise`"
   ]
  },
  {
   "cell_type": "code",
   "execution_count": 86,
   "id": "ec197be7",
   "metadata": {},
   "outputs": [
    {
     "name": "stdout",
     "output_type": "stream",
     "text": [
      "[[ 7.5   5.25  5.25]\n",
      " [12.    9.5   8.5 ]\n",
      " [10.5   8.75  7.75]]\n"
     ]
    }
   ],
   "source": [
    "print(LA.solve(M, b))"
   ]
  },
  {
   "cell_type": "markdown",
   "id": "c7fe7b60",
   "metadata": {},
   "source": [
    "### b/a  \n",
    "**NumPy:** `Solve a.T * y = b`"
   ]
  },
  {
   "cell_type": "code",
   "execution_count": 68,
   "id": "c0e17e03",
   "metadata": {},
   "outputs": [
    {
     "name": "stdout",
     "output_type": "stream",
     "text": [
      "[2. 3. 2.]\n"
     ]
    }
   ],
   "source": [
    "y = LA.solve(M.T, b); print(y)"
   ]
  },
  {
   "cell_type": "markdown",
   "id": "324950af",
   "metadata": {},
   "source": [
    "### [U,S,V]=svd(a)  \n",
    "**NumPy:** `U,S,Vh = linalg.svd(a); V=Vh.T`"
   ]
  },
  {
   "cell_type": "code",
   "execution_count": 69,
   "id": "bb1f2b23",
   "metadata": {},
   "outputs": [
    {
     "name": "stdout",
     "output_type": "stream",
     "text": [
      "U=\n",
      " [[-0.5    -0.7071  0.5   ]\n",
      " [ 0.7071 -0.      0.7071]\n",
      " [-0.5     0.7071  0.5   ]]\n",
      "S= [3.4142 2.     0.5858]\n",
      "V=\n",
      " [[-0.5    -0.7071  0.5   ]\n",
      " [ 0.7071  0.      0.7071]\n",
      " [-0.5     0.7071  0.5   ]]\n"
     ]
    }
   ],
   "source": [
    "U,S,Vh = LA.svd(M); V = Vh.T; print('U=\\n', U); print('S=', S); print('V=\\n', V)"
   ]
  },
  {
   "cell_type": "markdown",
   "id": "cac7640d",
   "metadata": {},
   "source": [
    "### chol(a)  \n",
    "**NumPy:** `linalg.cholesky(a)`"
   ]
  },
  {
   "cell_type": "code",
   "execution_count": 70,
   "id": "732af20b",
   "metadata": {},
   "outputs": [
    {
     "name": "stdout",
     "output_type": "stream",
     "text": [
      "C=\n",
      " [[1.7321 0.5774 0.    ]\n",
      " [0.     1.633  0.6124]\n",
      " [0.     0.     1.6202]]\n",
      "C@C.T=\n",
      " [[3.3333 0.9428 0.    ]\n",
      " [0.9428 3.0417 0.9922]\n",
      " [0.     0.9922 2.625 ]]\n"
     ]
    }
   ],
   "source": [
    "C = LA.cholesky(N); print('C=\\n', C); print('C@C.T=\\n', C@C.T)"
   ]
  },
  {
   "cell_type": "markdown",
   "id": "c8d1c1fa",
   "metadata": {},
   "source": [
    "### [V,D]=eig(a)  \n",
    "**NumPy:** `D,V = linalg.eig(a)  (SciPy returns (w,V))`"
   ]
  },
  {
   "cell_type": "code",
   "execution_count": 71,
   "id": "2c3aedb6",
   "metadata": {},
   "outputs": [
    {
     "name": "stdout",
     "output_type": "stream",
     "text": [
      "eigenvalues= [3.4142+0.j 2.    +0.j 0.5858+0.j]\n",
      "eigenvectors=\n",
      " [[-0.5    -0.7071  0.5   ]\n",
      " [ 0.7071  0.      0.7071]\n",
      " [-0.5     0.7071  0.5   ]]\n"
     ]
    }
   ],
   "source": [
    "w,V = LA.eig(M); print('eigenvalues=', w); print('eigenvectors=\\n', V)"
   ]
  },
  {
   "cell_type": "markdown",
   "id": "d4e94a18",
   "metadata": {},
   "source": [
    "### [V,D]=eig(a,b)  \n",
    "**NumPy:** `D,V = linalg.eig(a,b)`"
   ]
  },
  {
   "cell_type": "code",
   "execution_count": 72,
   "id": "b452d9c5",
   "metadata": {},
   "outputs": [
    {
     "name": "stdout",
     "output_type": "stream",
     "text": [
      "gen eig vals= [2.153 +0.j 0.6667+0.j 0.1327+0.j]\n",
      "gen eig vecs=\n",
      " [[-0.5    -0.7071  0.5   ]\n",
      " [ 0.7071 -0.      0.7071]\n",
      " [-0.5     0.7071  0.5   ]]\n"
     ]
    }
   ],
   "source": [
    "wg,Vg = LA.eig(M, N); print('gen eig vals=', wg); print('gen eig vecs=\\n', Vg)"
   ]
  },
  {
   "cell_type": "markdown",
   "id": "08e0e4e8",
   "metadata": {},
   "source": [
    "### [V,D]=eigs(a,3)  \n",
    "**NumPy:** `eigs(a, k=3)  (largest magnitude)`"
   ]
  },
  {
   "cell_type": "code",
   "execution_count": 73,
   "id": "78269a82",
   "metadata": {},
   "outputs": [
    {
     "name": "stdout",
     "output_type": "stream",
     "text": [
      "eigs vals= [3.4142+0.j 2.    +0.j 0.5858+0.j]\n",
      "eigs vecs=\n",
      " [[-0.5    -0.7071  0.5   ]\n",
      " [ 0.7071  0.      0.7071]\n",
      " [-0.5     0.7071  0.5   ]]\n"
     ]
    },
    {
     "name": "stderr",
     "output_type": "stream",
     "text": [
      "C:\\Users\\39346\\AppData\\Local\\Temp\\ipykernel_293664\\285030152.py:1: RuntimeWarning: k >= N - 1 for N * N square matrix. Attempting to use scipy.linalg.eig instead.\n",
      "  vals,vecs = eigs(M, k=2); print('eigs vals=', vals); print('eigs vecs=\\n', vecs)\n"
     ]
    }
   ],
   "source": [
    "vals,vecs = eigs(M, k=2); print('eigs vals=', vals); print('eigs vecs=\\n', vecs)"
   ]
  },
  {
   "cell_type": "markdown",
   "id": "61840e95",
   "metadata": {},
   "source": [
    "### [Q,R]=qr(a,0)  \n",
    "**NumPy:** `Q,R = linalg.qr(a)`"
   ]
  },
  {
   "cell_type": "code",
   "execution_count": 74,
   "id": "90a14885",
   "metadata": {},
   "outputs": [
    {
     "name": "stdout",
     "output_type": "stream",
     "text": [
      "Q=\n",
      " [[-0.8944 -0.3586  0.2673]\n",
      " [ 0.4472 -0.7171  0.5345]\n",
      " [-0.      0.5976  0.8018]]\n",
      "R=\n",
      " [[-2.2361  1.7889 -0.4472]\n",
      " [ 0.     -1.6733  1.9124]\n",
      " [ 0.      0.      1.069 ]]\n"
     ]
    }
   ],
   "source": [
    "Q,R = LA.qr(M, mode='economic'); print('Q=\\n', Q); print('R=\\n', R)"
   ]
  },
  {
   "cell_type": "markdown",
   "id": "eb84ba73",
   "metadata": {},
   "source": [
    "### [L,U,P]=lu(a) where a==P'*L*U  \n",
    "**NumPy:** `P,L,U = linalg.lu(a); a == P@L@U`"
   ]
  },
  {
   "cell_type": "code",
   "execution_count": 75,
   "id": "d686fa35",
   "metadata": {},
   "outputs": [
    {
     "name": "stdout",
     "output_type": "stream",
     "text": [
      "P=\n",
      " [[1. 0. 0.]\n",
      " [0. 1. 0.]\n",
      " [0. 0. 1.]]\n",
      "L=\n",
      " [[ 1.      0.      0.    ]\n",
      " [-0.5     1.      0.    ]\n",
      " [ 0.     -0.6667  1.    ]]\n",
      "U=\n",
      " [[ 2.     -1.      0.    ]\n",
      " [ 0.      1.5    -1.    ]\n",
      " [ 0.      0.      1.3333]]\n",
      "P@L@U=\n",
      " [[ 2. -1.  0.]\n",
      " [-1.  2. -1.]\n",
      " [ 0. -1.  2.]]\n"
     ]
    }
   ],
   "source": [
    "P,L,U = LA.lu(M); print('P=\\n', P); print('L=\\n', L); print('U=\\n', U); print('P@L@U=\\n', P@L@U)"
   ]
  },
  {
   "cell_type": "markdown",
   "id": "98a97fcb",
   "metadata": {},
   "source": [
    "### conjgrad  \n",
    "**NumPy:** `cg`"
   ]
  },
  {
   "cell_type": "code",
   "execution_count": 76,
   "id": "46cae054",
   "metadata": {},
   "outputs": [
    {
     "name": "stdout",
     "output_type": "stream",
     "text": [
      "cg solution= [ 0.4286 -0.2857  0.4286]  info= 0\n"
     ]
    }
   ],
   "source": [
    "A_spd = N; bb = np.array([1.,0.,1.]); sol, info = cg(A_spd, bb); print('cg solution=', sol, ' info=', info)"
   ]
  },
  {
   "cell_type": "markdown",
   "id": "8f585983",
   "metadata": {},
   "source": [
    "### fft(a)  \n",
    "**NumPy:** `np.fft.fft(a)`"
   ]
  },
  {
   "cell_type": "code",
   "execution_count": 77,
   "id": "834d7346",
   "metadata": {},
   "outputs": [
    {
     "name": "stdout",
     "output_type": "stream",
     "text": [
      "[10.+0.j -2.+2.j -2.+0.j -2.-2.j]\n"
     ]
    }
   ],
   "source": [
    "sig = np.array([1.,2.,3.,4.]); F = np.fft.fft(sig); print(F)"
   ]
  },
  {
   "cell_type": "markdown",
   "id": "7cd34917",
   "metadata": {},
   "source": [
    "### ifft(a)  \n",
    "**NumPy:** `np.fft.ifft(a)`"
   ]
  },
  {
   "cell_type": "code",
   "execution_count": 78,
   "id": "c8e2d660",
   "metadata": {},
   "outputs": [
    {
     "name": "stdout",
     "output_type": "stream",
     "text": [
      "[1.+0.j 2.+0.j 3.+0.j 4.+0.j]\n"
     ]
    }
   ],
   "source": [
    "iF = np.fft.ifft(F); print(iF)"
   ]
  },
  {
   "cell_type": "markdown",
   "id": "3831ac0e",
   "metadata": {},
   "source": [
    "### sort(a)  \n",
    "**NumPy:** `np.sort(a) or a.sort(axis=0)`"
   ]
  },
  {
   "cell_type": "code",
   "execution_count": 79,
   "id": "8a0abc11",
   "metadata": {},
   "outputs": [
    {
     "name": "stdout",
     "output_type": "stream",
     "text": [
      "[[3. 1. 2.]\n",
      " [6. 5. 4.]\n",
      " [9. 8. 7.]]\n"
     ]
    }
   ],
   "source": [
    "S = np.array([[3,1,2],[6,5,4],[9,8,7]], float); print(np.sort(S, axis=0))"
   ]
  },
  {
   "cell_type": "markdown",
   "id": "1bbf0362",
   "metadata": {},
   "source": [
    "### sort(a, 2)  \n",
    "**NumPy:** `np.sort(a, axis=1)`"
   ]
  },
  {
   "cell_type": "code",
   "execution_count": 80,
   "id": "20f24490",
   "metadata": {},
   "outputs": [
    {
     "name": "stdout",
     "output_type": "stream",
     "text": [
      "[[1. 2. 3.]\n",
      " [4. 5. 6.]\n",
      " [7. 8. 9.]]\n"
     ]
    }
   ],
   "source": [
    "print(np.sort(S, axis=1))"
   ]
  },
  {
   "cell_type": "markdown",
   "id": "31775333",
   "metadata": {},
   "source": [
    "### [b,I]=sortrows(a,1)  \n",
    "**NumPy:** `I = np.argsort(a[:,0]); b=a[I,:]`"
   ]
  },
  {
   "cell_type": "code",
   "execution_count": 81,
   "id": "dd7759de",
   "metadata": {},
   "outputs": [
    {
     "name": "stdout",
     "output_type": "stream",
     "text": [
      "I= [0 1 2]\n",
      "b=\n",
      " [[3. 1. 2.]\n",
      " [6. 5. 4.]\n",
      " [9. 8. 7.]]\n"
     ]
    }
   ],
   "source": [
    "I = np.argsort(S[:,0]); b = S[I,:]; print('I=', I); print('b=\\n', b)"
   ]
  },
  {
   "cell_type": "markdown",
   "id": "5f6d3f52",
   "metadata": {},
   "source": [
    "### x = Z\\\\y  \n",
    "**NumPy:** `x = linalg.lstsq(Z, y)`"
   ]
  },
  {
   "cell_type": "code",
   "execution_count": 82,
   "id": "4f338616",
   "metadata": {},
   "outputs": [
    {
     "name": "stdout",
     "output_type": "stream",
     "text": [
      "x_hat= [2.051  0.4862]\n",
      "res= 0.019033244003433245\n"
     ]
    }
   ],
   "source": [
    "Z = np.c_[np.ones(5), np.arange(5)]; true_beta = np.array([2.0,0.5]); y = Z@true_beta + rng.normal(0,0.1, size=5); x_hat, res, rank, s = LA.lstsq(Z,y); print('x_hat=', x_hat); print('res=', res)"
   ]
  },
  {
   "cell_type": "markdown",
   "id": "d0ed9fc6",
   "metadata": {},
   "source": [
    "### decimate(x, q)  \n",
    "**NumPy:** `signal.resample(x, ceil(len(x)/q))`"
   ]
  },
  {
   "cell_type": "code",
   "execution_count": 83,
   "id": "87e36d1d",
   "metadata": {},
   "outputs": [
    {
     "name": "stdout",
     "output_type": "stream",
     "text": [
      "len(x)-> 100  len(y_dec)-> 34\n",
      "y_dec[:8]= [ 0.0023  0.7954  0.9668  0.3572 -0.4788 -1.0016 -0.6641  0.1728]\n"
     ]
    }
   ],
   "source": [
    "x = np.sin(2*np.pi*0.05*np.arange(100)) + 0.05*rng.normal(size=100); q=3; y_dec = signal.resample(x, int(np.ceil(len(x)/q))); print('len(x)->', len(x), ' len(y_dec)->', len(y_dec)); print('y_dec[:8]=', y_dec[:8])"
   ]
  },
  {
   "cell_type": "markdown",
   "id": "01dcfc35",
   "metadata": {},
   "source": [
    "### unique(a)  \n",
    "**NumPy:** `np.unique(a)`"
   ]
  },
  {
   "cell_type": "code",
   "execution_count": 84,
   "id": "1056587c",
   "metadata": {},
   "outputs": [
    {
     "name": "stdout",
     "output_type": "stream",
     "text": [
      "[1 2 3 4]\n"
     ]
    }
   ],
   "source": [
    "arr = np.array([1,2,2,3,3,3,4,4,4,4]); print(np.unique(arr))"
   ]
  },
  {
   "cell_type": "markdown",
   "id": "5cc22a90",
   "metadata": {},
   "source": [
    "### squeeze(a)  \n",
    "**NumPy:** `a.squeeze()`"
   ]
  },
  {
   "cell_type": "code",
   "execution_count": 85,
   "id": "90840157",
   "metadata": {},
   "outputs": [
    {
     "name": "stdout",
     "output_type": "stream",
     "text": [
      "before (1, 3, 1, 1)  after (3,)\n"
     ]
    }
   ],
   "source": [
    "Bz = np.zeros((1,3,1,1)); print('before', Bz.shape, ' after', Bz.squeeze().shape)"
   ]
  },
  {
   "cell_type": "markdown",
   "id": "d712349b-cf28-4f5b-9434-57dedb634749",
   "metadata": {},
   "source": [
    "# Task 3: Matplotlib / PyPlot\n",
    "\n",
    "In this task, I executed the provided Matplotlib script in an IPython/Jupyter environment. The code plots a simple line, sets the axis limits, and displays the figure.\n"
   ]
  },
  {
   "cell_type": "code",
   "execution_count": 88,
   "id": "01309b51-3178-4ee5-94e6-d8125db664b4",
   "metadata": {},
   "outputs": [
    {
     "data": {
      "image/png": "[encoded data removed]",
      "text/plain": [
       "<Figure size 640x480 with 1 Axes>"
      ]
     },
     "metadata": {},
     "output_type": "display_data"
    }
   ],
   "source": [
    "import matplotlib.pyplot as plt\n",
    "\n",
    "plt.plot([1, 2, 3, 4], [1, 2, 7, 14])\n",
    "plt.axis([0, 6, 0, 20])\n",
    "plt.show()"
   ]
  },
  {
   "cell_type": "markdown",
   "id": "c135a475-d912-4421-86b6-f9e2514f6187",
   "metadata": {},
   "source": [
    "# Task 4: Custom Matplotlib Figure\n",
    "\n",
    "For this task, I created a custom plot in Jupyter using Matplotlib. The figure shows\n",
    "$\\sin(x)$ and $\\cos(x)$ over the interval $[0, 2\\pi]$, with labels, a legend, a grid,\n",
    "and an annotation of the maximum of $\\sin(x)$. I include both the code and the rendered\n",
    "figure below."
   ]
  },
  {
   "cell_type": "code",
   "execution_count": 89,
   "id": "cd7e8e4c-ed78-4ab3-95a2-62ad1a70d3de",
   "metadata": {},
   "outputs": [
    {
     "data": {
      "image/png": "[encoded data removed]",
      "text/plain": [
       "<Figure size 600x400 with 1 Axes>"
      ]
     },
     "metadata": {},
     "output_type": "display_data"
    }
   ],
   "source": [
    "import numpy as np\n",
    "import matplotlib.pyplot as plt\n",
    "\n",
    "# Data\n",
    "x = np.linspace(0, 2*np.pi, 300)\n",
    "y_sin = np.sin(x)\n",
    "y_cos = np.cos(x)\n",
    "\n",
    "# Create the plot\n",
    "plt.figure(figsize=(6, 4))\n",
    "plt.plot(x, y_sin, label=\"sin(x)\")\n",
    "plt.plot(x, y_cos, linestyle=\"--\", label=\"cos(x)\")\n",
    "\n",
    "# Labels, title, legend, grid\n",
    "plt.xlabel(\"x (radians)\")\n",
    "plt.ylabel(\"value\")\n",
    "plt.title(\"Sine vs. Cosine on [0, 2π]\")\n",
    "plt.legend()\n",
    "plt.grid(True, alpha=0.3)\n",
    "\n",
    "# Annotate the maximum of sin(x) at x = π/2\n",
    "imax = np.argmax(y_sin)\n",
    "plt.scatter([x[imax]], [y_sin[imax]])  # highlight the point\n",
    "plt.annotate(\n",
    "    \"max = 1 at $\\\\pi/2$\",\n",
    "    xy=(x[imax], y_sin[imax]),\n",
    "    xytext=(x[imax] + 0.6, 0.7),\n",
    "    arrowprops=dict(arrowstyle=\"->\")\n",
    ")\n",
    "\n",
    "plt.tight_layout()\n",
    "plt.show()"
   ]
  },
  {
   "cell_type": "markdown",
   "id": "73aeebc1-361f-42c5-afad-3606783241f8",
   "metadata": {},
   "source": [
    "# Task 5: Version Control System (GitHub) Account"
   ]
  },
  {
   "cell_type": "markdown",
   "id": "f70183ef-55b1-45d0-8ac0-f9e2a1a3dd9d",
   "metadata": {},
   "source": [
    "**Account name:** lonzo2ingram14"
   ]
  },
  {
   "cell_type": "markdown",
   "id": "df27067b-120a-448d-a32c-17c19004d7b9",
   "metadata": {},
   "source": [
    "# Task 6: Github Link of the Project"
   ]
  },
  {
   "cell_type": "code",
   "execution_count": null,
   "id": "6393c842-9e2e-4285-80da-89714117d059",
   "metadata": {},
   "outputs": [],
   "source": []
  }
 ],
 "metadata": {
  "kernelspec": {
   "display_name": "Python 3 (ipykernel)",
   "language": "python",
   "name": "python3"
  },
  "language_info": {
   "codemirror_mode": {
    "name": "ipython",
    "version": 3
   },
   "file_extension": ".py",
   "mimetype": "text/x-python",
   "name": "python",
   "nbconvert_exporter": "python",
   "pygments_lexer": "ipython3",
   "version": "3.13.5"
  }
 },
 "nbformat": 4,
 "nbformat_minor": 5
}
